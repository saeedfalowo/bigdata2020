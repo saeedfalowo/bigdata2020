{
 "cells": [
  {
   "cell_type": "code",
   "execution_count": 1,
   "metadata": {},
   "outputs": [],
   "source": [
    "from kafka import KafkaProducer\n",
    "from time import sleep"
   ]
  },
  {
   "cell_type": "code",
   "execution_count": 2,
   "metadata": {},
   "outputs": [],
   "source": [
    "# it takes JSON serializer by default\n",
    "producer = KafkaProducer(bootstrap_servers=['localhost:9093'],\n",
    "                         api_version=(0,10,1))"
   ]
  },
  {
   "cell_type": "code",
   "execution_count": 3,
   "metadata": {},
   "outputs": [
    {
     "data": {
      "text/plain": [
       "<kafka.producer.future.FutureRecordMetadata at 0x7f46a550e240>"
      ]
     },
     "execution_count": 3,
     "metadata": {},
     "output_type": "execute_result"
    }
   ],
   "source": [
    "# Topic name is zoo-lion\n",
    "producer.send('zoo-lion',b'Yo, where my keeper at?')"
   ]
  },
  {
   "cell_type": "code",
   "execution_count": 4,
   "metadata": {},
   "outputs": [],
   "source": [
    "msgs_2_send = ['knock knock','knock! knock! knock!',\n",
    "               'yhellow!','is anyone home','open up!',\n",
    "               'its rent collection day','I know youre in there',\n",
    "               'the lights are one so come out here and pay your rent',\n",
    "               'dont you dare turn off that light',\n",
    "               'I can hear you breathing, are you climbing out of the window?',\n",
    "               'we are two stories up, so remember to take your wings with you'\n",
    "]"
   ]
  },
  {
   "cell_type": "code",
   "execution_count": 5,
   "metadata": {},
   "outputs": [],
   "source": [
    "lyrics_2_sing = ['Yo, man','(Yo)','Open up, man',\n",
    "                 '(Yeah, what do you want, man?)',\n",
    "                 'My girl just caught me',\n",
    "                 '(You let her catch you?)',\n",
    "                 'I dont know how I let this happen',\n",
    "                 '(With who?)',\n",
    "                 'The girl next door, ya know?',\n",
    "                 'Man, I dont know what to do',\n",
    "                 '(Say it wasnt you)'\n",
    "]"
   ]
  },
  {
   "cell_type": "code",
   "execution_count": 6,
   "metadata": {},
   "outputs": [
    {
     "data": {
      "text/plain": [
       "<kafka.producer.future.FutureRecordMetadata at 0x7f46a4cb12b0>"
      ]
     },
     "execution_count": 6,
     "metadata": {},
     "output_type": "execute_result"
    }
   ],
   "source": [
    "producer.send('zoo-lion',b'\\n\\nRent Day!\\n')"
   ]
  },
  {
   "cell_type": "code",
   "execution_count": 7,
   "metadata": {},
   "outputs": [
    {
     "name": "stdout",
     "output_type": "stream",
     "text": [
      "msg sent: knock knock\n",
      "msg sent: knock! knock! knock!\n",
      "msg sent: yhellow!\n",
      "msg sent: is anyone home\n",
      "msg sent: open up!\n",
      "msg sent: its rent collection day\n",
      "msg sent: I know youre in there\n",
      "msg sent: the lights are one so come out here and pay your rent\n",
      "msg sent: dont you dare turn off that light\n",
      "msg sent: I can hear you breathing, are you climbing out of the window?\n",
      "msg sent: we are two stories up, so remember to take your wings with you\n"
     ]
    }
   ],
   "source": [
    "for msg in msgs_2_send:\n",
    "    #producer.send('zoo-lion',json.dumps(msg).encode('utf-8'))\n",
    "    producer.send('zoo-lion',msg.encode('utf-8'))\n",
    "    sleep(2)\n",
    "    print(\"msg sent: \"+ msg)"
   ]
  },
  {
   "cell_type": "code",
   "execution_count": 8,
   "metadata": {},
   "outputs": [
    {
     "data": {
      "text/plain": [
       "<kafka.producer.future.FutureRecordMetadata at 0x7f46a4cb1400>"
      ]
     },
     "execution_count": 8,
     "metadata": {},
     "output_type": "execute_result"
    }
   ],
   "source": [
    "producer.send('zoo-lion',b'\\n\\nWasnt me!\\n')"
   ]
  },
  {
   "cell_type": "code",
   "execution_count": 9,
   "metadata": {},
   "outputs": [
    {
     "name": "stdout",
     "output_type": "stream",
     "text": [
      "msg sent: Yo, man\n",
      "msg sent: (Yo)\n",
      "msg sent: Open up, man\n",
      "msg sent: (Yeah, what do you want, man?)\n",
      "msg sent: My girl just caught me\n",
      "msg sent: (You let her catch you?)\n",
      "msg sent: I dont know how I let this happen\n",
      "msg sent: (With who?)\n",
      "msg sent: The girl next door, ya know?\n",
      "msg sent: Man, I dont know what to do\n",
      "msg sent: (Say it wasnt you)\n"
     ]
    }
   ],
   "source": [
    "for msg in lyrics_2_sing:\n",
    "    #producer.send('zoo-lion',json.dumps(msg).encode('utf-8'))\n",
    "    producer.send('zoo-lion',msg.encode('utf-8'))\n",
    "    sleep(2)\n",
    "    print(\"msg sent: \"+ msg)"
   ]
  },
  {
   "cell_type": "code",
   "execution_count": 10,
   "metadata": {},
   "outputs": [
    {
     "data": {
      "text/plain": [
       "<kafka.producer.future.FutureRecordMetadata at 0x7f46a4cb6550>"
      ]
     },
     "execution_count": 10,
     "metadata": {},
     "output_type": "execute_result"
    }
   ],
   "source": [
    "producer.send('zoo-lion',b'end')"
   ]
  }
 ],
 "metadata": {
  "kernelspec": {
   "display_name": "Python 3",
   "language": "python",
   "name": "python3"
  },
  "language_info": {
   "codemirror_mode": {
    "name": "ipython",
    "version": 3
   },
   "file_extension": ".py",
   "mimetype": "text/x-python",
   "name": "python",
   "nbconvert_exporter": "python",
   "pygments_lexer": "ipython3",
   "version": "3.6.9"
  }
 },
 "nbformat": 4,
 "nbformat_minor": 4
}
