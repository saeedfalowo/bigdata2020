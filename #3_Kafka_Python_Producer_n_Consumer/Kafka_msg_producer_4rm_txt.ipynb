{
 "cells": [
  {
   "cell_type": "code",
   "execution_count": 1,
   "metadata": {},
   "outputs": [],
   "source": [
    "from kafka import KafkaProducer\n",
    "from time import sleep"
   ]
  },
  {
   "cell_type": "code",
   "execution_count": 2,
   "metadata": {},
   "outputs": [],
   "source": [
    "# it takes JSON serializer by default\n",
    "producer = KafkaProducer(bootstrap_servers=['localhost:9093'],\n",
    "                         api_version=(0,10,1))"
   ]
  },
  {
   "cell_type": "raw",
   "metadata": {},
   "source": [
    "# Topic name is zoo-lion\n",
    "producer.send('zoo-lion',b'Yo, where my keeper at?')"
   ]
  },
  {
   "cell_type": "code",
   "execution_count": 3,
   "metadata": {},
   "outputs": [],
   "source": [
    "f = open('msg_bank.txt','r')\n",
    "text = f.read()\n",
    "msgs_2_send = text.split('\\n')"
   ]
  },
  {
   "cell_type": "code",
   "execution_count": 4,
   "metadata": {},
   "outputs": [
    {
     "name": "stdout",
     "output_type": "stream",
     "text": [
      "msg sent: Rent Day!\n",
      "msg sent: \n",
      "msg sent: Knock knock\n",
      "msg sent: Knock! knock! knock!\n",
      "msg sent: Yhellow!\n",
      "msg sent: Is anyone home?\n",
      "msg sent: Open up!\n",
      "msg sent: Its rent collection day\n",
      "msg sent: I know youre in there\n",
      "msg sent: The lights are one so come out here and pay your rent\n",
      "msg sent: Dont you dare turn off that light\n",
      "msg sent: I can hear you breathing!\n",
      "msg sent: Are you climbing out of the window?\n",
      "msg sent: We are two stories up, so remember to take your wings with you\n",
      "msg sent: Eitherway, dead or alive,\n",
      "msg sent: You Are Gonna Pay Up!!!\n",
      "msg sent: \n",
      "msg sent: \n",
      "msg sent: Wasnt Me!\n",
      "msg sent: \n",
      "msg sent: Yo, man\n",
      "msg sent: (Yo)\n",
      "msg sent: Open up, man\n",
      "msg sent: (Yeah, what do you want, man?)\n",
      "msg sent: My girl just caught me\n",
      "msg sent: (You let her catch you?)\n",
      "msg sent: I dont know how I let this happen\n",
      "msg sent: (With who?)\n",
      "msg sent: The girl next door, ya know?\n",
      "msg sent: Man, I dont know what to do\n",
      "msg sent: (Say it wasnt you)\n",
      "msg sent: \n",
      "msg sent: \n"
     ]
    }
   ],
   "source": [
    "for msg in msgs_2_send:\n",
    "    #producer.send('zoo-lion',json.dumps(msg).encode('utf-8'))\n",
    "    producer.send('zoo-lion',msg.encode('utf-8'))\n",
    "    sleep(2)\n",
    "    print(\"msg sent: \"+ msg)"
   ]
  },
  {
   "cell_type": "code",
   "execution_count": 5,
   "metadata": {},
   "outputs": [
    {
     "data": {
      "text/plain": [
       "<kafka.producer.future.FutureRecordMetadata at 0x7f817411ef98>"
      ]
     },
     "execution_count": 5,
     "metadata": {},
     "output_type": "execute_result"
    }
   ],
   "source": [
    "producer.send('zoo-lion',b'end')"
   ]
  }
 ],
 "metadata": {
  "kernelspec": {
   "display_name": "Python 3",
   "language": "python",
   "name": "python3"
  },
  "language_info": {
   "codemirror_mode": {
    "name": "ipython",
    "version": 3
   },
   "file_extension": ".py",
   "mimetype": "text/x-python",
   "name": "python",
   "nbconvert_exporter": "python",
   "pygments_lexer": "ipython3",
   "version": "3.6.9"
  }
 },
 "nbformat": 4,
 "nbformat_minor": 4
}
