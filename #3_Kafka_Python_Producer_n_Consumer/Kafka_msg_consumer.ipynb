{
 "cells": [
  {
   "cell_type": "code",
   "execution_count": 1,
   "metadata": {},
   "outputs": [],
   "source": [
    "from kafka import KafkaConsumer"
   ]
  },
  {
   "cell_type": "code",
   "execution_count": 2,
   "metadata": {},
   "outputs": [],
   "source": [
    "consumer = KafkaConsumer('zoo-lion',\n",
    "                         bootstrap_servers=['localhost:9093'],\n",
    "                         api_version=(0,10))"
   ]
  },
  {
   "cell_type": "code",
   "execution_count": 3,
   "metadata": {},
   "outputs": [
    {
     "name": "stdout",
     "output_type": "stream",
     "text": [
      "b'Rent Day!'\n",
      "b''\n",
      "b'Knock knock'\n",
      "b'Knock! knock! knock!'\n",
      "b'Yhellow!'\n",
      "b'Is anyone home?'\n",
      "b'Open up!'\n",
      "b'Its rent collection day'\n",
      "b'I know youre in there'\n",
      "b'The lights are one so come out here and pay your rent'\n",
      "b'Dont you dare turn off that light'\n",
      "b'I can hear you breathing!'\n",
      "b'Are you climbing out of the window?'\n",
      "b'We are two stories up, so remember to take your wings with you'\n",
      "b'Eitherway, dead or alive,'\n",
      "b'You Are Gonna Pay Up!!!'\n",
      "b''\n",
      "b''\n",
      "b'Wasnt Me!'\n",
      "b''\n",
      "b'Yo, man'\n",
      "b'(Yo)'\n",
      "b'Open up, man'\n",
      "b'(Yeah, what do you want, man?)'\n",
      "b'My girl just caught me'\n",
      "b'(You let her catch you?)'\n",
      "b'I dont know how I let this happen'\n",
      "b'(With who?)'\n",
      "b'The girl next door, ya know?'\n",
      "b'Man, I dont know what to do'\n",
      "b'(Say it wasnt you)'\n",
      "b''\n",
      "b''\n"
     ]
    }
   ],
   "source": [
    "for msg in consumer:\n",
    "    if msg.value == b'end':\n",
    "        break\n",
    "        \n",
    "    print(msg.value)"
   ]
  }
 ],
 "metadata": {
  "kernelspec": {
   "display_name": "Python 3",
   "language": "python",
   "name": "python3"
  },
  "language_info": {
   "codemirror_mode": {
    "name": "ipython",
    "version": 3
   },
   "file_extension": ".py",
   "mimetype": "text/x-python",
   "name": "python",
   "nbconvert_exporter": "python",
   "pygments_lexer": "ipython3",
   "version": "3.6.9"
  }
 },
 "nbformat": 4,
 "nbformat_minor": 4
}
