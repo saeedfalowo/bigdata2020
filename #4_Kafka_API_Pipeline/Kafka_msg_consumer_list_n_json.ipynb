{
 "cells": [
  {
   "cell_type": "code",
   "execution_count": 1,
   "metadata": {},
   "outputs": [],
   "source": [
    "from kafka import KafkaConsumer\n",
    "import binascii\n",
    "import json\n",
    "from time import sleep\n",
    "import subprocess\n",
    "import os"
   ]
  },
  {
   "cell_type": "code",
   "execution_count": 2,
   "metadata": {},
   "outputs": [],
   "source": [
    "consumer = KafkaConsumer('zoo-lion',\n",
    "                         bootstrap_servers=['localhost:9093'],\n",
    "                         api_version=(0,10))"
   ]
  },
  {
   "cell_type": "code",
   "execution_count": 3,
   "metadata": {
    "scrolled": true
   },
   "outputs": [
    {
     "name": "stdout",
     "output_type": "stream",
     "text": [
      "Data receieved  999 :  {'id': '-vrmaJFI84po0s_xbgOxug', 'alias': 'the-real-greek-st-martins-lane-london', 'name': \"The Real Greek - St Martin's Lane\", 'image_url': 'https://s3-media4.fl.yelpcdn.com/bphoto/SuNpx8r7k241okigYVMkiw/o.jpg', 'is_closed': False, 'url': 'https://www.yelp.com/biz/the-real-greek-st-martins-lane-london?adjust_creative=ZwkqKwSASAVHCFsz3-oZmQ&utm_campaign=yelp_api_v3&utm_medium=api_v3_business_search&utm_source=ZwkqKwSASAVHCFsz3-oZmQ', 'review_count': 32, 'categories': [{'alias': 'mediterranean', 'title': 'Mediterranean'}, {'alias': 'greek', 'title': 'Greek'}], 'rating': 4.0, 'coordinates': {'latitude': 51.510831, 'longitude': -0.126832}, 'transactions': [], 'price': '££', 'location': {'address1': \"54 St Martin's Lane\", 'address2': '', 'address3': '', 'city': 'London', 'zip_code': 'WC2N 4EA', 'country': 'GB', 'state': 'XGL', 'display_address': [\"54 St Martin's Lane\", 'London WC2N 4EA', 'United Kingdom']}, 'phone': '+442072408531', 'display_phone': '+44 20 7240 8531', 'distance': 1070.940634266295} +44 20 7378 0057', 'distance': 1558.927376013549} 1} , 'distance': 2531.8564144875304} } 94020007} \r"
     ]
    }
   ],
   "source": [
    "data_bank_list = []\n",
    "i = 0\n",
    "for msg in consumer:\n",
    "    if msg.value == b'end':\n",
    "        break\n",
    "    msg_decoded = msg.value.decode(\"utf-8\")\n",
    "    msg_json = json.loads(msg_decoded)\n",
    "    data_bank_list.append(msg_json)\n",
    "    i+=1\n",
    "    print(\"Data receieved \",i,\": \",msg_json,\"\\r\", end=\"\")\n",
    "    #print(msg_json)\n",
    "    #print(msg.value)"
   ]
  },
  {
   "cell_type": "code",
   "execution_count": 4,
   "metadata": {},
   "outputs": [
    {
     "data": {
      "text/plain": [
       "dict_keys(['id', 'alias', 'name', 'image_url', 'is_closed', 'url', 'review_count', 'categories', 'rating', 'coordinates', 'transactions', 'price', 'location', 'phone', 'display_phone', 'distance'])"
      ]
     },
     "execution_count": 4,
     "metadata": {},
     "output_type": "execute_result"
    }
   ],
   "source": [
    "msg_json.keys()"
   ]
  },
  {
   "cell_type": "code",
   "execution_count": 5,
   "metadata": {},
   "outputs": [
    {
     "data": {
      "text/plain": [
       "{'id': 'oK_SLmmAVQg3meguh7LrIA',\n",
       " 'alias': 'dishoom-london',\n",
       " 'name': 'Dishoom',\n",
       " 'image_url': 'https://s3-media2.fl.yelpcdn.com/bphoto/4HC2FmxHZYzxqlqiRaeKCQ/o.jpg',\n",
       " 'is_closed': False,\n",
       " 'url': 'https://www.yelp.com/biz/dishoom-london?adjust_creative=ZwkqKwSASAVHCFsz3-oZmQ&utm_campaign=yelp_api_v3&utm_medium=api_v3_business_search&utm_source=ZwkqKwSASAVHCFsz3-oZmQ',\n",
       " 'review_count': 1843,\n",
       " 'categories': [{'alias': 'indpak', 'title': 'Indian'}],\n",
       " 'rating': 4.5,\n",
       " 'coordinates': {'latitude': 51.512447030091, 'longitude': -0.1269579217873},\n",
       " 'transactions': [],\n",
       " 'price': '££',\n",
       " 'location': {'address1': \"12 Upper Saint Martin's Lane\",\n",
       "  'address2': '',\n",
       "  'address3': '',\n",
       "  'city': 'London',\n",
       "  'zip_code': 'WC2H 9FB',\n",
       "  'country': 'GB',\n",
       "  'state': 'XGL',\n",
       "  'display_address': [\"12 Upper Saint Martin's Lane\",\n",
       "   'London WC2H 9FB',\n",
       "   'United Kingdom']},\n",
       " 'phone': '+442074209320',\n",
       " 'display_phone': '+44 20 7420 9320',\n",
       " 'distance': 1112.4775110385249}"
      ]
     },
     "execution_count": 5,
     "metadata": {},
     "output_type": "execute_result"
    }
   ],
   "source": [
    "data_bank_list[0]"
   ]
  },
  {
   "cell_type": "code",
   "execution_count": 6,
   "metadata": {},
   "outputs": [
    {
     "data": {
      "text/plain": [
       "999"
      ]
     },
     "execution_count": 6,
     "metadata": {},
     "output_type": "execute_result"
    }
   ],
   "source": [
    "len(data_bank_list)"
   ]
  },
  {
   "cell_type": "raw",
   "metadata": {},
   "source": [
    "for i in range(5):\n",
    "    print(\"Data receieved \",i,\"\\r\", end=\"\",flush=True)\n",
    "    print(data_bank_list[i],\"\\r\", end=\"\",flush=True)\n",
    "    sleep(2)\n",
    "    #subprocess.call(\"clear\")\n",
    "    #os.system('cls' if os.name == 'nt' else 'clear')"
   ]
  }
 ],
 "metadata": {
  "kernelspec": {
   "display_name": "Python 3",
   "language": "python",
   "name": "python3"
  },
  "language_info": {
   "codemirror_mode": {
    "name": "ipython",
    "version": 3
   },
   "file_extension": ".py",
   "mimetype": "text/x-python",
   "name": "python",
   "nbconvert_exporter": "python",
   "pygments_lexer": "ipython3",
   "version": "3.6.9"
  }
 },
 "nbformat": 4,
 "nbformat_minor": 4
}
