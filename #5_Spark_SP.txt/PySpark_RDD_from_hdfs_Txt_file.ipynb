{
 "cells": [
  {
   "cell_type": "code",
   "execution_count": 1,
   "metadata": {},
   "outputs": [],
   "source": [
    "from pyspark import SparkContext\n",
    "from pyspark.sql.functions import col, split"
   ]
  },
  {
   "cell_type": "code",
   "execution_count": 2,
   "metadata": {},
   "outputs": [],
   "source": [
    "sc = SparkContext(\"local\",\"textfile\")\n",
    "lines = sc.textFile(\"/home/saeed/files/Shakespeare.txt\")"
   ]
  },
  {
   "cell_type": "code",
   "execution_count": 3,
   "metadata": {},
   "outputs": [
    {
     "data": {
      "text/plain": [
       "pyspark.rdd.RDD"
      ]
     },
     "execution_count": 3,
     "metadata": {},
     "output_type": "execute_result"
    }
   ],
   "source": [
    "type(lines)"
   ]
  },
  {
   "cell_type": "code",
   "execution_count": 4,
   "metadata": {},
   "outputs": [
    {
     "data": {
      "text/plain": [
       "['This is the 100th Etext file presented by Project Gutenberg, and',\n",
       " 'is presented in cooperation with World Library, Inc., from their',\n",
       " 'Library of the Future and Shakespeare CDROMS.  Project Gutenberg',\n",
       " 'often releases Etexts that are NOT placed in the Public Domain!!',\n",
       " '',\n",
       " 'Shakespeare',\n",
       " '',\n",
       " '*This Etext has certain copyright implications you should read!*',\n",
       " '',\n",
       " '<<THIS ELECTRONIC VERSION OF THE COMPLETE WORKS OF WILLIAM']"
      ]
     },
     "execution_count": 4,
     "metadata": {},
     "output_type": "execute_result"
    }
   ],
   "source": [
    "lines.take(10)"
   ]
  },
  {
   "cell_type": "code",
   "execution_count": 5,
   "metadata": {},
   "outputs": [
    {
     "data": {
      "text/plain": [
       "[['This',\n",
       "  'is',\n",
       "  'the',\n",
       "  '100th',\n",
       "  'Etext',\n",
       "  'file',\n",
       "  'presented',\n",
       "  'by',\n",
       "  'Project',\n",
       "  'Gutenberg,',\n",
       "  'and'],\n",
       " ['is',\n",
       "  'presented',\n",
       "  'in',\n",
       "  'cooperation',\n",
       "  'with',\n",
       "  'World',\n",
       "  'Library,',\n",
       "  'Inc.,',\n",
       "  'from',\n",
       "  'their'],\n",
       " ['Library',\n",
       "  'of',\n",
       "  'the',\n",
       "  'Future',\n",
       "  'and',\n",
       "  'Shakespeare',\n",
       "  'CDROMS.',\n",
       "  '',\n",
       "  'Project',\n",
       "  'Gutenberg'],\n",
       " ['often',\n",
       "  'releases',\n",
       "  'Etexts',\n",
       "  'that',\n",
       "  'are',\n",
       "  'NOT',\n",
       "  'placed',\n",
       "  'in',\n",
       "  'the',\n",
       "  'Public',\n",
       "  'Domain!!'],\n",
       " ['']]"
      ]
     },
     "execution_count": 5,
     "metadata": {},
     "output_type": "execute_result"
    }
   ],
   "source": [
    "hdfs_file_rdd = lines.map(lambda line: line.split(\" \"))\n",
    "hdfs_file_rdd.take(5)"
   ]
  }
 ],
 "metadata": {
  "kernelspec": {
   "display_name": "Python 3",
   "language": "python",
   "name": "python3"
  },
  "language_info": {
   "codemirror_mode": {
    "name": "ipython",
    "version": 3
   },
   "file_extension": ".py",
   "mimetype": "text/x-python",
   "name": "python",
   "nbconvert_exporter": "python",
   "pygments_lexer": "ipython3",
   "version": "3.6.9"
  }
 },
 "nbformat": 4,
 "nbformat_minor": 4
}
