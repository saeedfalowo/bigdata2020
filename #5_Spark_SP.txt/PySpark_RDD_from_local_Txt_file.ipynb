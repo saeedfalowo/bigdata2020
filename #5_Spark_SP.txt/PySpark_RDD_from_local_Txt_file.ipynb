{
 "cells": [
  {
   "cell_type": "code",
   "execution_count": 1,
   "metadata": {},
   "outputs": [],
   "source": [
    "from pyspark import SparkContext\n",
    "from pyspark.sql.functions import col, split"
   ]
  },
  {
   "cell_type": "code",
   "execution_count": 2,
   "metadata": {},
   "outputs": [],
   "source": [
    "sc = SparkContext(\"local\",\"textfile\")\n",
    "lines = sc.textFile(\"file:///home/saeed/Documents/spark_project//src/Shakespeare.txt\")"
   ]
  },
  {
   "cell_type": "code",
   "execution_count": 3,
   "metadata": {},
   "outputs": [
    {
     "data": {
      "text/plain": [
       "pyspark.rdd.RDD"
      ]
     },
     "execution_count": 3,
     "metadata": {},
     "output_type": "execute_result"
    }
   ],
   "source": [
    "type(lines)"
   ]
  },
  {
   "cell_type": "code",
   "execution_count": 4,
   "metadata": {},
   "outputs": [
    {
     "data": {
      "text/plain": [
       "['This is the 100th Etext file presented by Project Gutenberg, and',\n",
       " 'is presented in cooperation with World Library, Inc., from their',\n",
       " 'Library of the Future and Shakespeare CDROMS.  Project Gutenberg',\n",
       " 'often releases Etexts that are NOT placed in the Public Domain!!',\n",
       " '',\n",
       " 'Shakespeare',\n",
       " '',\n",
       " '*This Etext has certain copyright implications you should read!*',\n",
       " '',\n",
       " '<<THIS ELECTRONIC VERSION OF THE COMPLETE WORKS OF WILLIAM']"
      ]
     },
     "execution_count": 4,
     "metadata": {},
     "output_type": "execute_result"
    }
   ],
   "source": [
    "lines.take(10)"
   ]
  },
  {
   "cell_type": "code",
   "execution_count": 6,
   "metadata": {},
   "outputs": [
    {
     "data": {
      "text/plain": [
       "[('This', 1105),\n",
       " ('is', 7851),\n",
       " ('the', 23242),\n",
       " ('100th', 1),\n",
       " ('Etext', 4),\n",
       " ('file', 14),\n",
       " ('presented', 11),\n",
       " ('by', 2824),\n",
       " ('Project', 13),\n",
       " ('Gutenberg,', 1),\n",
       " ('and', 18297),\n",
       " ('in', 9576),\n",
       " ('cooperation', 1),\n",
       " ('with', 6722),\n",
       " ('World', 5),\n",
       " ('Library,', 2),\n",
       " ('Inc.,', 1),\n",
       " ('from', 2283),\n",
       " ('their', 1934),\n",
       " ('Library', 4),\n",
       " ('of', 15544),\n",
       " ('Future', 3),\n",
       " ('Shakespeare', 45),\n",
       " ('CDROMS.', 1),\n",
       " ('', 517065),\n",
       " ('Gutenberg', 11),\n",
       " ('often', 116),\n",
       " ('releases', 1),\n",
       " ('Etexts', 3),\n",
       " ('that', 7531),\n",
       " ('are', 2917),\n",
       " ('NOT', 225),\n",
       " ('placed', 10),\n",
       " ('Public', 1),\n",
       " ('Domain!!', 1),\n",
       " ('*This', 1),\n",
       " ('has', 326),\n",
       " ('certain', 116),\n",
       " ('copyright', 7),\n",
       " ('implications', 1),\n",
       " ('you', 9081),\n",
       " ('should', 1387),\n",
       " ('read!*', 1),\n",
       " ('<<THIS', 220),\n",
       " ('ELECTRONIC', 442),\n",
       " ('VERSION', 221),\n",
       " ('OF', 1490),\n",
       " ('THE', 342),\n",
       " ('COMPLETE', 223),\n",
       " ('WORKS', 221)]"
      ]
     },
     "execution_count": 6,
     "metadata": {},
     "output_type": "execute_result"
    }
   ],
   "source": [
    "#local_file_rdd = lines.map(lambda line: line.split(\" \"))\n",
    "#local_file_rdd.take(5)\n",
    "\n",
    "local_file_rdd = lines.flatMap(lambda line: line.split(\" \"))\\\n",
    "                    .map(lambda word: (word,1))\\\n",
    "                    .reduceByKey(lambda a,b: a+b)\n",
    "local_file_rdd.take(50)"
   ]
  },
  {
   "cell_type": "code",
   "execution_count": null,
   "metadata": {},
   "outputs": [],
   "source": []
  }
 ],
 "metadata": {
  "kernelspec": {
   "display_name": "Python 3",
   "language": "python",
   "name": "python3"
  },
  "language_info": {
   "codemirror_mode": {
    "name": "ipython",
    "version": 3
   },
   "file_extension": ".py",
   "mimetype": "text/x-python",
   "name": "python",
   "nbconvert_exporter": "python",
   "pygments_lexer": "ipython3",
   "version": "3.6.9"
  }
 },
 "nbformat": 4,
 "nbformat_minor": 4
}
