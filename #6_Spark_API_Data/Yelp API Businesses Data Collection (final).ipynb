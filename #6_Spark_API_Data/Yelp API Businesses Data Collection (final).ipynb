{
 "cells": [
  {
   "cell_type": "markdown",
   "metadata": {},
   "source": [
    "# Yelp API Businesses Data Collection Demo\n",
    "A trial to help construct the data collection pipeline\n"
   ]
  },
  {
   "cell_type": "code",
   "execution_count": 1,
   "metadata": {},
   "outputs": [],
   "source": [
    "from yelpapi import YelpAPI\n",
    "import auth\n",
    "import http.client\n",
    "import json\n",
    "import urllib.parse\n",
    "from time import sleep\n",
    "from kafka import KafkaProducer"
   ]
  },
  {
   "cell_type": "code",
   "execution_count": 2,
   "metadata": {},
   "outputs": [],
   "source": [
    "# Client id and API key definition\n",
    "client_id = auth.client_id\n",
    "api_key = auth.api_key\n",
    "\n",
    "API_HOST = 'api.yelp.com'\n",
    "SEARCH_PATH = '/v3/businesses/search'\n",
    "BUSINESS_PATH = '/v3/businesses/'\n",
    "CATEGORIES_PATH = '/v3/categories'\n",
    "\n",
    "headers = {'Authorization':'Bearer %s' % api_key}"
   ]
  },
  {
   "cell_type": "code",
   "execution_count": 3,
   "metadata": {},
   "outputs": [],
   "source": [
    "# Set up kafka producer\n",
    "producer = KafkaProducer(bootstrap_servers=['localhost:9093'],\n",
    "                         api_version=(0,10,1))"
   ]
  },
  {
   "cell_type": "code",
   "execution_count": 4,
   "metadata": {},
   "outputs": [],
   "source": [
    "yelp_api = YelpAPI(api_key)\n",
    "\n",
    "connection = http.client.HTTPSConnection(API_HOST)\n",
    "connection.request(\"GET\",CATEGORIES_PATH,headers=headers)\n",
    "\n",
    "connection_response = connection.getresponse()\n",
    "response_data = connection_response.read()\n",
    "#categories = json.loads(response_data.decode(\"utf-8\"))"
   ]
  },
  {
   "cell_type": "code",
   "execution_count": 5,
   "metadata": {},
   "outputs": [],
   "source": [
    "# Extract all categories\n",
    "categories = json.loads(response_data.decode(\"utf-8\"))\n",
    "#categories['categories'][0]"
   ]
  },
  {
   "cell_type": "raw",
   "metadata": {},
   "source": [
    "category_list = []\n",
    "for category in categories['categories']:\n",
    "    try:\n",
    "        if category['parent_aliases'][0] not in category_list:\n",
    "            #print(category['parent_aliases'][0])\n",
    "            category_list.append(category['parent_aliases'][0])\n",
    "    except Exception:\n",
    "        pass\n",
    "category_list.sort()\n",
    "print(\"Number of unique categories: \", len(category_list))\n",
    "category_list[:10]"
   ]
  },
  {
   "cell_type": "markdown",
   "metadata": {},
   "source": [
    "## Business Search\n",
    "Yelp API allows us to search for businesses within a maximum of 40000 meters (25 miles) approximately. NOTE: The actual search radius may be lower than the suggested radius in dense urban areas, and higher in regions of less business density."
   ]
  },
  {
   "cell_type": "code",
   "execution_count": 6,
   "metadata": {},
   "outputs": [],
   "source": [
    "mid_point_london_latlng = [51.509835,-0.111440]\n",
    "radius_m = 40000  # maximum search radius in meters\n",
    "offset = 0        # initial offset\n",
    "result_limit = 50 # maximum allowable\n",
    "total_result_limit = 1000 # api total number of result limit\n",
    "offset_shift = 50\n",
    "term = \"\"#category_list[0]#\"\"\n",
    "term_cnt = 1\n",
    "\n",
    "response_list = []\n",
    "search = True"
   ]
  },
  {
   "cell_type": "code",
   "execution_count": 7,
   "metadata": {
    "scrolled": true
   },
   "outputs": [],
   "source": [
    "# BUSINESS SEARCH BY TERM\n",
    "def GetAPIData(term):\n",
    "    print(\"Getting Yelp businesses data for category: \", term, \"...\")\n",
    "    mid_point_london_latlng = [51.509835,-0.111440]\n",
    "    radius_m = 40000  # maximum search radius in meters\n",
    "    offset = 0        # initial offset\n",
    "    result_limit = 50 # maximum allowable\n",
    "    total_result_limit = 1000 # api total number of result limit\n",
    "    offset_shift = 50\n",
    "    \n",
    "    response_list = []\n",
    "    search = True\n",
    "    \n",
    "    cnt=0\n",
    "    \n",
    "    while search:\n",
    "        try:\n",
    "            response = yelp_api.search_query(\n",
    "                term=term,\n",
    "                latitude=mid_point_london_latlng[0],\n",
    "                longitude=mid_point_london_latlng[1],\n",
    "                radius=radius_m, offset=offset,\n",
    "                limit=result_limit)\n",
    "\n",
    "            for business in response['businesses']:\n",
    "                cnt+=1\n",
    "                producer.send('zoo-lion',json.dumps(business).encode('utf-8'))\n",
    "                print(\"     Sent business data \",cnt,\" for id: \", business[\"id\"],\"\\r\", end=\"\")\n",
    "                sleep(5)\n",
    "            \n",
    "            response_list.append(response)\n",
    "            sleep(2)\n",
    "\n",
    "            if offset == 0:\n",
    "                offset = offset_shift + 1\n",
    "\n",
    "            elif result_limit + offset + offset_shift > total_result_limit and offset <= total_result_limit:\n",
    "                offset += offset_shift\n",
    "                result_limit = total_result_limit - offset\n",
    "                # The allowable limit if 1000 result so i have adjusted the\n",
    "                # result limit so we take all of the allowable 1000 result\n",
    "\n",
    "            else:\n",
    "                offset += offset_shift\n",
    "\n",
    "        except Exception:\n",
    "            break\n",
    "    \n",
    "    return response_list"
   ]
  },
  {
   "cell_type": "code",
   "execution_count": 8,
   "metadata": {},
   "outputs": [
    {
     "name": "stdout",
     "output_type": "stream",
     "text": [
      "Getting Yelp businesses data for category:   ...\n",
      "     Sent business data  255  for id:  XHCHzTZOxyXFIaI52rU4CQ \r"
     ]
    },
    {
     "ename": "KeyboardInterrupt",
     "evalue": "",
     "output_type": "error",
     "traceback": [
      "\u001b[0;31m---------------------------------------------------------------------------\u001b[0m",
      "\u001b[0;31mKeyboardInterrupt\u001b[0m                         Traceback (most recent call last)",
      "\u001b[0;32m<ipython-input-8-c77e5675ac63>\u001b[0m in \u001b[0;36m<module>\u001b[0;34m\u001b[0m\n\u001b[0;32m----> 1\u001b[0;31m \u001b[0mGetAPIData\u001b[0m\u001b[0;34m(\u001b[0m\u001b[0;34m\"\"\u001b[0m\u001b[0;34m)\u001b[0m\u001b[0;34m\u001b[0m\u001b[0;34m\u001b[0m\u001b[0m\n\u001b[0m\u001b[1;32m      2\u001b[0m \u001b[0mproducer\u001b[0m\u001b[0;34m.\u001b[0m\u001b[0msend\u001b[0m\u001b[0;34m(\u001b[0m\u001b[0;34m'zoo-lion'\u001b[0m\u001b[0;34m,\u001b[0m\u001b[0;34mb'end'\u001b[0m\u001b[0;34m)\u001b[0m\u001b[0;34m\u001b[0m\u001b[0;34m\u001b[0m\u001b[0m\n",
      "\u001b[0;32m<ipython-input-7-63cdb9f5e937>\u001b[0m in \u001b[0;36mGetAPIData\u001b[0;34m(term)\u001b[0m\n\u001b[1;32m     27\u001b[0m                 \u001b[0mproducer\u001b[0m\u001b[0;34m.\u001b[0m\u001b[0msend\u001b[0m\u001b[0;34m(\u001b[0m\u001b[0;34m'zoo-lion'\u001b[0m\u001b[0;34m,\u001b[0m\u001b[0mjson\u001b[0m\u001b[0;34m.\u001b[0m\u001b[0mdumps\u001b[0m\u001b[0;34m(\u001b[0m\u001b[0mbusiness\u001b[0m\u001b[0;34m)\u001b[0m\u001b[0;34m.\u001b[0m\u001b[0mencode\u001b[0m\u001b[0;34m(\u001b[0m\u001b[0;34m'utf-8'\u001b[0m\u001b[0;34m)\u001b[0m\u001b[0;34m)\u001b[0m\u001b[0;34m\u001b[0m\u001b[0;34m\u001b[0m\u001b[0m\n\u001b[1;32m     28\u001b[0m                 \u001b[0mprint\u001b[0m\u001b[0;34m(\u001b[0m\u001b[0;34m\"     Sent business data \"\u001b[0m\u001b[0;34m,\u001b[0m\u001b[0mcnt\u001b[0m\u001b[0;34m,\u001b[0m\u001b[0;34m\" for id: \"\u001b[0m\u001b[0;34m,\u001b[0m \u001b[0mbusiness\u001b[0m\u001b[0;34m[\u001b[0m\u001b[0;34m\"id\"\u001b[0m\u001b[0;34m]\u001b[0m\u001b[0;34m,\u001b[0m\u001b[0;34m\"\\r\"\u001b[0m\u001b[0;34m,\u001b[0m \u001b[0mend\u001b[0m\u001b[0;34m=\u001b[0m\u001b[0;34m\"\"\u001b[0m\u001b[0;34m)\u001b[0m\u001b[0;34m\u001b[0m\u001b[0;34m\u001b[0m\u001b[0m\n\u001b[0;32m---> 29\u001b[0;31m                 \u001b[0msleep\u001b[0m\u001b[0;34m(\u001b[0m\u001b[0;36m5\u001b[0m\u001b[0;34m)\u001b[0m\u001b[0;34m\u001b[0m\u001b[0;34m\u001b[0m\u001b[0m\n\u001b[0m\u001b[1;32m     30\u001b[0m \u001b[0;34m\u001b[0m\u001b[0m\n\u001b[1;32m     31\u001b[0m             \u001b[0mresponse_list\u001b[0m\u001b[0;34m.\u001b[0m\u001b[0mappend\u001b[0m\u001b[0;34m(\u001b[0m\u001b[0mresponse\u001b[0m\u001b[0;34m)\u001b[0m\u001b[0;34m\u001b[0m\u001b[0;34m\u001b[0m\u001b[0m\n",
      "\u001b[0;31mKeyboardInterrupt\u001b[0m: "
     ]
    }
   ],
   "source": [
    "GetAPIData(\"\")\n",
    "producer.send('zoo-lion',b'end')"
   ]
  },
  {
   "cell_type": "code",
   "execution_count": null,
   "metadata": {},
   "outputs": [],
   "source": []
  }
 ],
 "metadata": {
  "kernelspec": {
   "display_name": "Python 3",
   "language": "python",
   "name": "python3"
  },
  "language_info": {
   "codemirror_mode": {
    "name": "ipython",
    "version": 3
   },
   "file_extension": ".py",
   "mimetype": "text/x-python",
   "name": "python",
   "nbconvert_exporter": "python",
   "pygments_lexer": "ipython3",
   "version": "3.6.9"
  }
 },
 "nbformat": 4,
 "nbformat_minor": 4
}
