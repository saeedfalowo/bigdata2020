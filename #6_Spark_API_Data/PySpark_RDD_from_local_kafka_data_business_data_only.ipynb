{
 "cells": [
  {
   "cell_type": "raw",
   "metadata": {},
   "source": [
    "REF:\n",
    "    https://spark.apache.org/docs/1.6.1/sql-programming-guide.html"
   ]
  },
  {
   "cell_type": "code",
   "execution_count": 1,
   "metadata": {},
   "outputs": [],
   "source": [
    "import spark\n",
    "from pyspark import SparkContext\n",
    "from pyspark.sql import functions as F\n",
    "from pyspark.sql.functions import col, split\n",
    "from pyspark.sql import SQLContext\n",
    "import json"
   ]
  },
  {
   "cell_type": "code",
   "execution_count": 2,
   "metadata": {},
   "outputs": [],
   "source": [
    "sc = SparkContext(\"local\",\"textfile\")\n",
    "sqlContext = SQLContext(sc)"
   ]
  },
  {
   "cell_type": "code",
   "execution_count": 3,
   "metadata": {},
   "outputs": [],
   "source": [
    "filepath = \"/home/saeed/Documents/spark_project/src/Businesses_London_0-1000_offset.json\"\n",
    "f = open(filepath,\"r\")\n",
    "json_data = f.read()\n",
    "response_list = json.loads(json_data)\n"
   ]
  },
  {
   "cell_type": "code",
   "execution_count": 4,
   "metadata": {},
   "outputs": [
    {
     "data": {
      "text/plain": [
       "[{'id': 'oK_SLmmAVQg3meguh7LrIA',\n",
       "  'alias': 'dishoom-london',\n",
       "  'name': 'Dishoom',\n",
       "  'image_url': 'https://s3-media2.fl.yelpcdn.com/bphoto/4HC2FmxHZYzxqlqiRaeKCQ/o.jpg',\n",
       "  'is_closed': False,\n",
       "  'url': 'https://www.yelp.com/biz/dishoom-london?adjust_creative=ZwkqKwSASAVHCFsz3-oZmQ&utm_campaign=yelp_api_v3&utm_medium=api_v3_business_search&utm_source=ZwkqKwSASAVHCFsz3-oZmQ',\n",
       "  'review_count': 1843,\n",
       "  'categories': [{'alias': 'indpak', 'title': 'Indian'}],\n",
       "  'rating': 4.5,\n",
       "  'coordinates': {'latitude': 51.512447030091, 'longitude': -0.1269579217873},\n",
       "  'transactions': [],\n",
       "  'price': '££',\n",
       "  'location': {'address1': \"12 Upper Saint Martin's Lane\",\n",
       "   'address2': '',\n",
       "   'address3': '',\n",
       "   'city': 'London',\n",
       "   'zip_code': 'WC2H 9FB',\n",
       "   'country': 'GB',\n",
       "   'state': 'XGL',\n",
       "   'display_address': [\"12 Upper Saint Martin's Lane\",\n",
       "    'London WC2H 9FB',\n",
       "    'United Kingdom']},\n",
       "  'phone': '+442074209320',\n",
       "  'display_phone': '+44 20 7420 9320',\n",
       "  'distance': 1112.4775110385249},\n",
       " {'id': 'YRA2VnhFLChIh1ZD31cXjg',\n",
       "  'alias': 'the-british-museum-london',\n",
       "  'name': 'The British Museum',\n",
       "  'image_url': 'https://s3-media4.fl.yelpcdn.com/bphoto/TH9r0NXidmIvPXiA9F1_DQ/o.jpg',\n",
       "  'is_closed': False,\n",
       "  'url': 'https://www.yelp.com/biz/the-british-museum-london?adjust_creative=ZwkqKwSASAVHCFsz3-oZmQ&utm_campaign=yelp_api_v3&utm_medium=api_v3_business_search&utm_source=ZwkqKwSASAVHCFsz3-oZmQ',\n",
       "  'review_count': 990,\n",
       "  'categories': [{'alias': 'museums', 'title': 'Museums'}],\n",
       "  'rating': 4.5,\n",
       "  'coordinates': {'latitude': 51.518298, 'longitude': -0.126026},\n",
       "  'transactions': [],\n",
       "  'location': {'address1': 'Great Russell Street',\n",
       "   'address2': '',\n",
       "   'address3': '',\n",
       "   'city': 'London',\n",
       "   'zip_code': 'WC1B 3DG',\n",
       "   'country': 'GB',\n",
       "   'state': 'XGL',\n",
       "   'display_address': ['Great Russell Street',\n",
       "    'London WC1B 3DG',\n",
       "    'United Kingdom']},\n",
       "  'phone': '+442073238299',\n",
       "  'display_phone': '+44 20 7323 8299',\n",
       "  'distance': 1379.9711895431071},\n",
       " {'id': 'NPAkaFjtmDC8IKC60u5PAw',\n",
       "  'alias': 'coca-cola-london-eye-london',\n",
       "  'name': 'Coca Cola London Eye',\n",
       "  'image_url': 'https://s3-media3.fl.yelpcdn.com/bphoto/ITElBJzYm_2QQXkQDJCRyQ/o.jpg',\n",
       "  'is_closed': False,\n",
       "  'url': 'https://www.yelp.com/biz/coca-cola-london-eye-london?adjust_creative=ZwkqKwSASAVHCFsz3-oZmQ&utm_campaign=yelp_api_v3&utm_medium=api_v3_business_search&utm_source=ZwkqKwSASAVHCFsz3-oZmQ',\n",
       "  'review_count': 1019,\n",
       "  'categories': [{'alias': 'landmarks',\n",
       "    'title': 'Landmarks & Historical Buildings'}],\n",
       "  'rating': 4.0,\n",
       "  'coordinates': {'latitude': 51.503364, 'longitude': -0.11957},\n",
       "  'transactions': [],\n",
       "  'location': {'address1': 'Riverside Building',\n",
       "   'address2': 'County Hall',\n",
       "   'address3': 'Westminster Bridge Road',\n",
       "   'city': 'London',\n",
       "   'zip_code': 'SE1 7PB',\n",
       "   'country': 'GB',\n",
       "   'state': 'XGL',\n",
       "   'display_address': ['Riverside Building',\n",
       "    'County Hall',\n",
       "    'Westminster Bridge Road',\n",
       "    'London SE1 7PB',\n",
       "    'United Kingdom']},\n",
       "  'phone': '',\n",
       "  'display_phone': '',\n",
       "  'distance': 913.4271667509222},\n",
       " {'id': 'QXOrompG3b2o7g6P4ePb5w',\n",
       "  'alias': 'tate-modern-london',\n",
       "  'name': 'Tate Modern',\n",
       "  'image_url': 'https://s3-media2.fl.yelpcdn.com/bphoto/MyDFgpXMo3qu2RF4_RvFZw/o.jpg',\n",
       "  'is_closed': False,\n",
       "  'url': 'https://www.yelp.com/biz/tate-modern-london?adjust_creative=ZwkqKwSASAVHCFsz3-oZmQ&utm_campaign=yelp_api_v3&utm_medium=api_v3_business_search&utm_source=ZwkqKwSASAVHCFsz3-oZmQ',\n",
       "  'review_count': 716,\n",
       "  'categories': [{'alias': 'artmuseums', 'title': 'Art Museums'}],\n",
       "  'rating': 4.0,\n",
       "  'coordinates': {'latitude': 51.5078610102146,\n",
       "   'longitude': -0.0991344451904297},\n",
       "  'transactions': [],\n",
       "  'location': {'address1': 'Bankside',\n",
       "   'address2': '',\n",
       "   'address3': '',\n",
       "   'city': 'London',\n",
       "   'zip_code': 'SE1 9TG',\n",
       "   'country': 'GB',\n",
       "   'state': 'XGL',\n",
       "   'display_address': ['Bankside', 'London SE1 9TG', 'United Kingdom']},\n",
       "  'phone': '+442078878888',\n",
       "  'display_phone': '+44 20 7887 8888',\n",
       "  'distance': 879.4615917863855},\n",
       " {'id': 'ElxBJGffVB-jV1kMCG9PbQ',\n",
       "  'alias': 'the-national-gallery-london-2',\n",
       "  'name': 'The National Gallery',\n",
       "  'image_url': 'https://s3-media3.fl.yelpcdn.com/bphoto/Y2mDtEARDc8m4RLXstgorA/o.jpg',\n",
       "  'is_closed': False,\n",
       "  'url': 'https://www.yelp.com/biz/the-national-gallery-london-2?adjust_creative=ZwkqKwSASAVHCFsz3-oZmQ&utm_campaign=yelp_api_v3&utm_medium=api_v3_business_search&utm_source=ZwkqKwSASAVHCFsz3-oZmQ',\n",
       "  'review_count': 464,\n",
       "  'categories': [{'alias': 'artmuseums', 'title': 'Art Museums'}],\n",
       "  'rating': 4.5,\n",
       "  'coordinates': {'latitude': 51.508929, 'longitude': -0.128302},\n",
       "  'transactions': [],\n",
       "  'location': {'address1': 'Trafalgar Square',\n",
       "   'address2': '',\n",
       "   'address3': '',\n",
       "   'city': 'London',\n",
       "   'zip_code': 'WC2N 5DN',\n",
       "   'country': 'GB',\n",
       "   'state': 'XGL',\n",
       "   'display_address': ['Trafalgar Square',\n",
       "    'London WC2N 5DN',\n",
       "    'United Kingdom']},\n",
       "  'phone': '+4420077472885',\n",
       "  'display_phone': '+44 20077472885',\n",
       "  'distance': 1171.2944150290637}]"
      ]
     },
     "execution_count": 4,
     "metadata": {},
     "output_type": "execute_result"
    }
   ],
   "source": [
    "# Remove the headers leaving only data we are interested in\n",
    "# The headers in this case are the containers that house our data\n",
    "# Look within the businesses header and extract the data within\n",
    "# Data architecture\n",
    "#    json file\n",
    "#        [businesses - id, alias, name .... (very interested)\n",
    "#         region - Not interested\n",
    "#         total - Not interested\n",
    "#        ]\n",
    "#         ...\n",
    "#        [businesses - id, alias, name .... (very interested)\n",
    "#         region - Not interested\n",
    "#         total - Not interested\n",
    "#        ]\n",
    "businesses_data_list = []\n",
    "for response_data in response_list:\n",
    "    for business_data in response_data[\"businesses\"]:\n",
    "        businesses_data_list.append(business_data)\n",
    "\n",
    "businesses_data_list[:5]"
   ]
  },
  {
   "cell_type": "code",
   "execution_count": 5,
   "metadata": {},
   "outputs": [
    {
     "data": {
      "text/plain": [
       "999"
      ]
     },
     "execution_count": 5,
     "metadata": {},
     "output_type": "execute_result"
    }
   ],
   "source": [
    "len(businesses_data_list)"
   ]
  },
  {
   "cell_type": "code",
   "execution_count": 6,
   "metadata": {},
   "outputs": [],
   "source": [
    "businesses_data_json = json.dumps(businesses_data_list)\n",
    "#businesses_data_json"
   ]
  },
  {
   "cell_type": "code",
   "execution_count": 7,
   "metadata": {},
   "outputs": [],
   "source": [
    "#data = json.load(open(filepath,\"r\"))\n",
    "json_rdd = sc.parallelize([businesses_data_json])\n",
    "#json_rdd.take(1)"
   ]
  },
  {
   "cell_type": "code",
   "execution_count": 8,
   "metadata": {},
   "outputs": [],
   "source": [
    "df = sqlContext.read.json(json_rdd)"
   ]
  },
  {
   "cell_type": "code",
   "execution_count": 9,
   "metadata": {},
   "outputs": [
    {
     "name": "stdout",
     "output_type": "stream",
     "text": [
      "+--------------------+--------------------+--------------------+----------------+------------------+--------------------+--------------------+---------+--------------------+--------------------+--------------+-----+------+------------+------------+--------------------+\n",
      "|               alias|          categories|         coordinates|   display_phone|          distance|                  id|           image_url|is_closed|            location|                name|         phone|price|rating|review_count|transactions|                 url|\n",
      "+--------------------+--------------------+--------------------+----------------+------------------+--------------------+--------------------+---------+--------------------+--------------------+--------------+-----+------+------------+------------+--------------------+\n",
      "|      dishoom-london|  [[indpak, Indian]]|[51.512447030091,...|+44 20 7420 9320|1112.4775110385249|oK_SLmmAVQg3meguh...|https://s3-media2...|    false|[12 Upper Saint M...|             Dishoom| +442074209320|   ££|   4.5|        1843|          []|https://www.yelp....|\n",
      "|the-british-museu...|[[museums, Museums]]|[51.518298, -0.12...|+44 20 7323 8299|1379.9711895431071|YRA2VnhFLChIh1ZD3...|https://s3-media4...|    false|[Great Russell St...|  The British Museum| +442073238299| null|   4.5|         990|          []|https://www.yelp....|\n",
      "|coca-cola-london-...|[[landmarks, Land...|[51.503364, -0.11...|                | 913.4271667509222|NPAkaFjtmDC8IKC60...|https://s3-media3...|    false|[Riverside Buildi...|Coca Cola London Eye|              | null|   4.0|        1019|          []|https://www.yelp....|\n",
      "|  tate-modern-london|[[artmuseums, Art...|[51.5078610102146...|+44 20 7887 8888| 879.4615917863855|QXOrompG3b2o7g6P4...|https://s3-media2...|    false|[Bankside, , , Lo...|         Tate Modern| +442078878888| null|   4.0|         716|          []|https://www.yelp....|\n",
      "|the-national-gall...|[[artmuseums, Art...|[51.508929, -0.12...| +44 20077472885|1171.2944150290637|ElxBJGffVB-jV1kMC...|https://s3-media3...|    false|[Trafalgar Square...|The National Gallery|+4420077472885| null|   4.5|         464|          []|https://www.yelp....|\n",
      "|gordons-wine-bar-...|[[wine_bars, Wine...|[51.5079411426091...|+44 20 7930 1408| 852.8501474925996|KGfryNuNH5mqYddLl...|https://s3-media3...|    false|[47 Villiers Stre...|   Gordon's Wine Bar| +442079301408|   ££|   4.5|         406|          []|https://www.yelp....|\n",
      "|st-pauls-cathedra...|[[landmarks, Land...|[51.5137180425786...|+44 20 7246 8350| 935.4028622795371|mvs07Hrm2YrwObqDu...|https://s3-media2...|    false|[St Paul's Church...|St. Paul's Cathedral| +442072468350| null|   4.5|         298|          []|https://www.yelp....|\n",
      "|    dishoom-london-7|  [[indpak, Indian]]|[51.513087, -0.13...|+44 20 7420 9322|1993.3853765562098|mc1KLbA1Sy4kUTKo0...|https://s3-media2...|    false|[22 Kingly Street...|             Dishoom| +442074209322|   ££|   4.5|         544|          []|https://www.yelp....|\n",
      "|tower-of-london-l...|[[landmarks, Land...|[51.5083008269638...|+44 20 3166 6000| 2453.848510259892|v1Lpwqs75mmQ0ugug...|https://s3-media1...|    false|[Tower Hill, , , ...|     Tower of London| +442031666000| null|   4.5|         666|          []|https://www.yelp....|\n",
      "|flat-iron-covent-...|[[steak, Steakhou...|[51.5108326561998...|+44 20 3019 4212| 883.1668412801378|vzJaHABdXQ154saZv...|https://s3-media4...|    false|[17-18 Henrietta ...|           Flat Iron| +442030194212|   ££|   4.5|         195|          []|https://www.yelp....|\n",
      "|      big-ben-london|[[landmarks, Land...|[51.5007803427897...|+44 20 7219 4272| 1357.738791063498|N3k9B1iF7irRV5Blq...|https://s3-media1...|    false|[, , , London, GB...|             Big Ben| +442072194272| null|   4.5|         450|          []|https://www.yelp....|\n",
      "|ye-olde-cheshire-...|[[pubs, Pubs], [b...|[51.5143449, -0.1...|+44 20 7353 6170| 579.3254393677668|-Ve2_hHfPczRX159x...|https://s3-media2...|    false|[145 Fleet Street...|Ye Olde Cheshire ...| +442073536170|   ££|   4.0|         353|          []|https://www.yelp....|\n",
      "|tower-bridge-lond...|[[landmarks, Land...|[51.5054836850673...|+44 20 7403 3761|2540.6249862793497|lfy7mQ1E7vDiN1-Ra...|https://s3-media4...|    false|[Tower Bridge Roa...|        Tower Bridge| +442074033761| null|   4.5|         444|          []|https://www.yelp....|\n",
      "|westminster-abbey...|[[churches, Churc...|[51.4993203344498...|+44 20 7222 5152|1607.2710492931965|P2FLtbOmyCDCq2Q7g...|https://s3-media3...|    false|[20 Dean's Yard, ...|   Westminster Abbey| +442072225152| null|   4.5|         358|          []|https://www.yelp....|\n",
      "|hawksmoor-seven-d...|[[british, Britis...|[51.5134998914001...|+44 20 7420 9390|1065.9974871782088|0B-ag3J18TatG9H9E...|https://s3-media2...|    false|[11 Langley Stree...|Hawksmoor Seven D...| +442074209390|  £££|   4.5|         343|          []|https://www.yelp....|\n",
      "|    dishoom-london-2|[[indpak, Indian]...|[51.5245310066818...|+44 20 7420 9324|2912.7134359100532|vlq4D26p_143Tj21O...|https://s3-media4...|    false|[7 Boundary Stree...|             Dishoom| +442074209324|   ££|   4.5|         493|          []|https://www.yelp....|\n",
      "|     sketch-london-2|[[french, French]...|[51.5127614699071...|+44 20 7659 4500| 2111.812456594211|zJNI06Y2zZQFh9OBS...|https://s3-media2...|    false|[9 Conduit Street...|              Sketch| +442076594500|  £££|   4.0|         829|          []|https://www.yelp....|\n",
      "|regency-café-lond...|    [[cafes, Cafes]]|[51.4940143171, -...|+44 20 7821 6596|2272.3426605373306|YNduANMPzIVE8CzBH...|https://s3-media1...|    false|[17-19 Regency St...|        Regency Café| +442078216596|    £|   4.5|         392|          []|https://www.yelp....|\n",
      "|  hyde-park-london-2|    [[parks, Parks]]|[51.5039538036569...|+44 300 061 2114|2930.3199934836657|4VqbGRaYQJakPe2K6...|https://s3-media2...|    false|[,,, London, GB, ...|           Hyde Park| +443000612114| null|   4.5|         387|          []|https://www.yelp....|\n",
      "|punjab-restaurant...|  [[indpak, Indian]]|[51.514992, -0.12...|+44 20 7836 9787| 1156.918117790777|lMVdwKmsxLgqczUXX...|https://s3-media1...|    false|[80 Neal Street, ...|   Punjab Restaurant| +442078369787|   ££|   4.0|         544|          []|https://www.yelp....|\n",
      "+--------------------+--------------------+--------------------+----------------+------------------+--------------------+--------------------+---------+--------------------+--------------------+--------------+-----+------+------------+------------+--------------------+\n",
      "only showing top 20 rows\n",
      "\n"
     ]
    }
   ],
   "source": [
    "df.show()"
   ]
  },
  {
   "cell_type": "code",
   "execution_count": 10,
   "metadata": {},
   "outputs": [
    {
     "name": "stdout",
     "output_type": "stream",
     "text": [
      "root\n",
      " |-- alias: string (nullable = true)\n",
      " |-- categories: array (nullable = true)\n",
      " |    |-- element: struct (containsNull = true)\n",
      " |    |    |-- alias: string (nullable = true)\n",
      " |    |    |-- title: string (nullable = true)\n",
      " |-- coordinates: struct (nullable = true)\n",
      " |    |-- latitude: double (nullable = true)\n",
      " |    |-- longitude: double (nullable = true)\n",
      " |-- display_phone: string (nullable = true)\n",
      " |-- distance: double (nullable = true)\n",
      " |-- id: string (nullable = true)\n",
      " |-- image_url: string (nullable = true)\n",
      " |-- is_closed: boolean (nullable = true)\n",
      " |-- location: struct (nullable = true)\n",
      " |    |-- address1: string (nullable = true)\n",
      " |    |-- address2: string (nullable = true)\n",
      " |    |-- address3: string (nullable = true)\n",
      " |    |-- city: string (nullable = true)\n",
      " |    |-- country: string (nullable = true)\n",
      " |    |-- display_address: array (nullable = true)\n",
      " |    |    |-- element: string (containsNull = true)\n",
      " |    |-- state: string (nullable = true)\n",
      " |    |-- zip_code: string (nullable = true)\n",
      " |-- name: string (nullable = true)\n",
      " |-- phone: string (nullable = true)\n",
      " |-- price: string (nullable = true)\n",
      " |-- rating: double (nullable = true)\n",
      " |-- review_count: long (nullable = true)\n",
      " |-- transactions: array (nullable = true)\n",
      " |    |-- element: string (containsNull = true)\n",
      " |-- url: string (nullable = true)\n",
      "\n"
     ]
    }
   ],
   "source": [
    "df.printSchema()"
   ]
  },
  {
   "cell_type": "code",
   "execution_count": 11,
   "metadata": {},
   "outputs": [
    {
     "name": "stdout",
     "output_type": "stream",
     "text": [
      "+-----+\n",
      "|price|\n",
      "+-----+\n",
      "|   ££|\n",
      "| null|\n",
      "| null|\n",
      "| null|\n",
      "| null|\n",
      "|   ££|\n",
      "| null|\n",
      "|   ££|\n",
      "| null|\n",
      "|   ££|\n",
      "| null|\n",
      "|   ££|\n",
      "| null|\n",
      "| null|\n",
      "|  £££|\n",
      "|   ££|\n",
      "|  £££|\n",
      "|    £|\n",
      "| null|\n",
      "|   ££|\n",
      "+-----+\n",
      "only showing top 20 rows\n",
      "\n"
     ]
    }
   ],
   "source": [
    "#df.select(\"alias\").show()\n",
    "#df.select(\"categories\").show()\n",
    "df.select(\"price\").show()"
   ]
  }
 ],
 "metadata": {
  "kernelspec": {
   "display_name": "Python 3",
   "language": "python",
   "name": "python3"
  },
  "language_info": {
   "codemirror_mode": {
    "name": "ipython",
    "version": 3
   },
   "file_extension": ".py",
   "mimetype": "text/x-python",
   "name": "python",
   "nbconvert_exporter": "python",
   "pygments_lexer": "ipython3",
   "version": "3.6.9"
  }
 },
 "nbformat": 4,
 "nbformat_minor": 4
}
