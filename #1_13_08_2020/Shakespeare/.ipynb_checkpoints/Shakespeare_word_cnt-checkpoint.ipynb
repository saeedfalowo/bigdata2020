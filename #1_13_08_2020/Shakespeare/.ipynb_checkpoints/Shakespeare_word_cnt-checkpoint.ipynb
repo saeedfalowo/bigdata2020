{
 "cells": [
  {
   "cell_type": "code",
   "execution_count": 3,
   "metadata": {},
   "outputs": [
    {
     "name": "stdout",
     "output_type": "stream",
     "text": [
      "901325\n",
      "done...!\n"
     ]
    }
   ],
   "source": [
    "import json\n",
    "\n",
    "f = open(\"Shakespeare.txt\",'r')\n",
    "content = f.read()\n",
    "content = content.lower()\n",
    "#print(content)\n",
    "\n",
    "# split word\n",
    "word_list = content.split()\n",
    "print(len(word_list))\n",
    "\n",
    "unique_word_dict = {}\n",
    "\n",
    "for word in word_list:\n",
    "    if word not in unique_word_dict.keys():\n",
    "        unique_word_dict[word] = 1\n",
    "    else:\n",
    "        unique_word_dict[word] += 1\n",
    "\n",
    "#print(unique_word_dict)\n",
    "\n",
    "#json.dump(unique_word_dict, open('unique_word_dict.json', 'w'))\n",
    "with open('unique_word_dict.json', 'w') as file:\n",
    "     file.write(json.dumps(unique_word_dict))\n",
    "print('done...!')"
   ]
  },
  {
   "cell_type": "code",
   "execution_count": null,
   "metadata": {},
   "outputs": [],
   "source": []
  }
 ],
 "metadata": {
  "kernelspec": {
   "display_name": "Python 3",
   "language": "python",
   "name": "python3"
  },
  "language_info": {
   "codemirror_mode": {
    "name": "ipython",
    "version": 3
   },
   "file_extension": ".py",
   "mimetype": "text/x-python",
   "name": "python",
   "nbconvert_exporter": "python",
   "pygments_lexer": "ipython3",
   "version": "3.7.3"
  }
 },
 "nbformat": 4,
 "nbformat_minor": 2
}
